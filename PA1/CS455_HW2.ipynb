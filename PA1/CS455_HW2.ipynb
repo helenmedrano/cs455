{
 "cells": [
  {
   "cell_type": "code",
   "execution_count": 1,
   "metadata": {
    "collapsed": false
   },
   "outputs": [
    {
     "name": "stdout",
     "output_type": "stream",
     "text": [
      "First pair:  [[3 5]] [[7 5]]\n",
      "Euclidean Norm for first pair:  4.0\n",
      "Sigma Norm for first pair:  6.1245154965971\n",
      "First pair:  [[2 8]] [[4 5]]\n",
      "Euclidean Norm for second pair:  3.605551275463989\n",
      "Sigma Norm for second pair:  5.1657508881031\n",
      "[[ 4  0]\n",
      " [ 2 -3]]\n"
     ]
    }
   ],
   "source": [
    "import numpy as np\n",
    "from math import *\n",
    "\n",
    "q_i = np.matrix([[3, 5],\n",
    "                 [2, 8]])\n",
    "q_j = np.matrix([[7, 5],\n",
    "                 [4, 5]])\n",
    "e = 0.1\n",
    "\n",
    "def euclideanNorm(q_i, q_j):\n",
    "    return sqrt(np.sum(np.square(np.subtract(q_i, q_j))))\n",
    "\n",
    "def sigmaNorm(z, epsilon):\n",
    "    return 1/epsilon*(sqrt(1+epsilon*(z**2))-1)\n",
    "\n",
    "z_1 = euclideanNorm(q_i[0], q_j[0])\n",
    "print(\"First pair: \", q_i[0], q_j[0])\n",
    "print(\"Euclidean Norm for first pair: \", z_1)\n",
    "print(\"Sigma Norm for first pair: \", sigmaNorm(z_1, e))\n",
    "\n",
    "z_2 = euclideanNorm(q_i[1], q_j[1])\n",
    "print(\"First pair: \", q_i[1], q_j[1])\n",
    "print(\"Euclidean Norm for second pair: \", z_2)\n",
    "print(\"Sigma Norm for second pair: \", sigmaNorm(z_2, e))\n",
    "\n",
    "print(np.subtract(q_j, q_i))"
   ]
  }
 ],
 "metadata": {
  "kernelspec": {
   "display_name": "Python 3",
   "language": "python",
   "name": "python3"
  },
  "language_info": {
   "codemirror_mode": {
    "name": "ipython",
    "version": 3
   },
   "file_extension": ".py",
   "mimetype": "text/x-python",
   "name": "python",
   "nbconvert_exporter": "python",
   "pygments_lexer": "ipython3",
   "version": "3.5.2"
  }
 },
 "nbformat": 4,
 "nbformat_minor": 1
}
