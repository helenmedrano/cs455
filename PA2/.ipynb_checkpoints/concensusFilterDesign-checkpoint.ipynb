{
 "cells": [
  {
   "cell_type": "code",
   "execution_count": 222,
   "metadata": {
    "collapsed": false
   },
   "outputs": [],
   "source": [
    "import numpy as np\n",
    "import matplotlib.pyplot as plt\n",
    "import matplotlib.artist as artist\n",
    "import matplotlib.patches as patches\n",
    "from functools import *\n",
    "from math import *\n",
    "import pandas as pd\n",
    "import time\n",
    "from IPython import display\n",
    "\n",
    "%matplotlib inline"
   ]
  },
  {
   "cell_type": "code",
   "execution_count": 223,
   "metadata": {
    "collapsed": true
   },
   "outputs": [],
   "source": [
    "plt.style.use('ggplot')"
   ]
  },
  {
   "cell_type": "code",
   "execution_count": 224,
   "metadata": {
    "collapsed": false
   },
   "outputs": [],
   "source": [
    "size = 4\n",
    "\n",
    "numNodes = 10\n",
    "c_v = 0.01\n",
    "\n",
    "############## ranges subject to change ###########\n",
    "# communication range\n",
    "r = 2\n",
    "# sensing range\n",
    "r_s = 3\n",
    "\n",
    "# generate random points\n",
    "points = size*np.random.rand(2, numNodes)"
   ]
  },
  {
   "cell_type": "code",
   "execution_count": 225,
   "metadata": {
    "collapsed": true
   },
   "outputs": [],
   "source": [
    "########################### build graph #########################\n",
    "\n",
    "# add edge to graph (adding neighbors)\n",
    "def addEdge(graph, pointIndex, neighborIndex):\n",
    "    if pointIndex in graph:\n",
    "        graph[pointIndex].append(neighborIndex)\n",
    "    else:\n",
    "        graph[pointIndex] = [neighborIndex]\n",
    "\n",
    "def distance(point1, point2):\n",
    "    (x1, y1) = point1\n",
    "    (x2, y2) = point2\n",
    "    return (x1-x2)**2+(y1-y2)**2\n",
    "\n",
    "# go through all nodes to see if neighbor\n",
    "def findNeighbors(nodeIndex, n, q):\n",
    "    \n",
    "    neighborList = []\n",
    "    q_i = np.array(q[nodeIndex-1]).ravel()\n",
    "\n",
    "    centerX, centerY = q_i[0], q_i[1]\n",
    "    for j in range(nodeIndex, n):\n",
    "        q_j = np.array(q[j]).ravel()\n",
    "        pointX, pointY = q_j[0], q_j[1]\n",
    "        if distance((centerX, centerY), (pointX, pointY)) < r**2:\n",
    "            neighborList.append(j+1)\n",
    "    return neighborList\n",
    "\n",
    "# dict[node number] = [neighbors]\n",
    "# nodes with neighbors\n",
    "def buildGraph(n, q):\n",
    "    global fignum\n",
    "    \n",
    "    graph = dict()\n",
    "    \n",
    "    for i in range(1, n+1):\n",
    "        centerIndex = i\n",
    "        q_i = np.array(q[i-1]).ravel()\n",
    "        centerX, centerY = q_i[0], q_i[1]\n",
    "        neighbors = findNeighbors(centerIndex, n, q)\n",
    "        for neighborIndex in neighbors:\n",
    "            neighbor = neighborIndex-1\n",
    "            \n",
    "            q_j = np.array(q[neighbor]).ravel()\n",
    "            \n",
    "            pointX, pointY = q_j[0], q_j[1]\n",
    "            # 3. Link sensor node with neighbor\n",
    "            plt.plot([centerX, pointX], [centerY, pointY], color='b')\n",
    "            # add 2 edges for undirected graph\n",
    "            addEdge(graph, centerIndex, neighborIndex)\n",
    "            addEdge(graph, neighborIndex, centerIndex)   \n",
    "        if centerIndex not in graph:\n",
    "            graph[centerIndex] = []\n",
    "    \n",
    "    return graph\n",
    "\n",
    "def showSensorNodeGraph(x, y, n):\n",
    "    fig = plt.figure()\n",
    "    ax = fig.add_subplot(111)\n",
    "    ax.add_patch(patches.Rectangle((2, 2), .5, .5))\n",
    "    \n",
    "    # q: node positions in matrix form\n",
    "    q = np.column_stack((x, y))\n",
    "    q = list(map(np.matrix, q))\n",
    "    \n",
    "    plt.scatter(x, y,\n",
    "                marker='>',\n",
    "                color='magenta')\n",
    "    # find neighbors for each node\n",
    "    return buildGraph(n, q)"
   ]
  },
  {
   "cell_type": "code",
   "execution_count": 226,
   "metadata": {
    "collapsed": false
   },
   "outputs": [
    {
     "data": {
      "image/png": "[encoded data removed]",
      "text/plain": [
       "<matplotlib.figure.Figure at 0x107527eb8>"
      ]
     },
     "metadata": {},
     "output_type": "display_data"
    }
   ],
   "source": [
    "nodes = showSensorNodeGraph(points[0], points[1], numNodes)"
   ]
  },
  {
   "cell_type": "code",
   "execution_count": 227,
   "metadata": {
    "collapsed": false
   },
   "outputs": [],
   "source": [
    "#################### Supplemental Functions ########################\n",
    "\n",
    "def readField(filename):\n",
    "    rows = []\n",
    "    F = []\n",
    "    file = open(filename,\"r\")\n",
    "    lines = file.readlines()\n",
    "    \n",
    "    for i in range(25):\n",
    "        row = []\n",
    "        for i in range(5):\n",
    "            index = 1+(26*i)\n",
    "            vals = lines[index]\n",
    "            vals = list(map(float, vals.split()))\n",
    "            row += vals\n",
    "        rows.append(row)\n",
    "    \n",
    "    return rows\n",
    "\n",
    "# 25 x 25\n",
    "F = readField(\"Scalar_Field_data.txt\")\n",
    "\n",
    "\n",
    "def euclideanNorm(q_i, q_j):\n",
    "    return sqrt(np.sum(np.square(np.subtract(q_i, q_j))))\n",
    "\n",
    "def sigmaNorm(z, epsilon):\n",
    "    return 1/epsilon*(sqrt(1+epsilon*(z**2))-1)\n",
    "\n",
    "# Noise variance model\n",
    "def V_ik_t(q_i, q_ck):\n",
    "    z = euclideanNorm(q_i, q_ck)\n",
    "    if z <= r_s:\n",
    "        return z**2+c_v/r_s**2\n",
    "    else:\n",
    "        return 0\n",
    "\n",
    "V1 = []\n",
    "# noise\n",
    "n1 = []\n",
    "# node measurements\n",
    "m1 = []\n",
    "\n",
    "V = []\n",
    "n = []\n",
    "m = []\n",
    "\n",
    "groundTruthMeasurement = 50\n",
    "groundTruthLoc = [2, 2]\n",
    "    \n",
    "# Add noise, N = 10\n",
    "def measurement():\n",
    "    \n",
    "    # q: node positions in matrix form\n",
    "    q = np.column_stack((points[0], points[1]))\n",
    "    q = list(map(np.matrix, q))\n",
    "    q_mean = reduce(np.add, q)/numNodes\n",
    "    \n",
    "    for i in range(numNodes):\n",
    "        V1.append(((np.linalg.norm(np.subtract(q[i], q_mean))**2)+c_v)/(r_s**2))\n",
    "        n1.append(np.random.normal(0.0, V1[i]))\n",
    "        m1.append(groundTruthMeasurement + n1[i])\n",
    "        \n",
    "# observation at cell k at time step t based on its own confidence\n",
    "# (weight) - cell weight\n",
    "measurement()\n",
    "m.append(m1)\n",
    "n.append(n1)\n",
    "V.append(V1)"
   ]
  },
  {
   "cell_type": "code",
   "execution_count": 228,
   "metadata": {
    "collapsed": false
   },
   "outputs": [
    {
     "name": "stdout",
     "output_type": "stream",
     "text": [
      "[[50.06147339649019, 50.46843449923863, 49.070273420417706, 49.8380878926037, 49.86833157873791, 50.142045283305066, 50.283286341012044, 50.01442673432738, 49.65934873896305, 50.21847973580779]]\n"
     ]
    }
   ],
   "source": [
    "########################### CASE 1 ################################\n",
    "############ Estimate single cell (single scalar value) ###########\n",
    "\n",
    "# iniital \n",
    "#k = 1\n",
    "consensus = []\n",
    "consensus.append(measurement)\n",
    "\n",
    "def compute_c1_w():\n",
    "    numerator = 2*c_v\n",
    "    N = numNodes-1\n",
    "    denominator = N*r_s**2\n",
    "    return numerator/denominator\n",
    "\n",
    "import random\n",
    "def random_float(low, high):\n",
    "    return random.random()*(high-low) + low\n",
    "\n",
    "c1_w = random_float(0,compute_c1_w())\n",
    "    \n",
    "def weightDesign_1():\n",
    "    print(m)\n",
    "    \n",
    "\n",
    "\n",
    "weightDesign_1()\n",
    "# every time step change topology - make sure connectivity is 1"
   ]
  },
  {
   "cell_type": "code",
   "execution_count": null,
   "metadata": {
    "collapsed": true
   },
   "outputs": [],
   "source": []
  }
 ],
 "metadata": {
  "kernelspec": {
   "display_name": "Python 3",
   "language": "python",
   "name": "python3"
  },
  "language_info": {
   "codemirror_mode": {
    "name": "ipython",
    "version": 3
   },
   "file_extension": ".py",
   "mimetype": "text/x-python",
   "name": "python",
   "nbconvert_exporter": "python",
   "pygments_lexer": "ipython3",
   "version": "3.5.2"
  }
 },
 "nbformat": 4,
 "nbformat_minor": 1
}
