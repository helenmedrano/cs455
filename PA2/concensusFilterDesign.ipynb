{
 "cells": [
  {
   "cell_type": "code",
   "execution_count": 1984,
   "metadata": {
    "collapsed": false
   },
   "outputs": [],
   "source": [
    "import numpy as np\n",
    "import matplotlib.pyplot as plt\n",
    "import matplotlib.artist as artist\n",
    "import matplotlib.patches as patches\n",
    "from functools import *\n",
    "from math import *\n",
    "import pandas as pd\n",
    "import time\n",
    "import random\n",
    "from IPython import display\n",
    "\n",
    "%matplotlib inline"
   ]
  },
  {
   "cell_type": "code",
   "execution_count": 1985,
   "metadata": {
    "collapsed": true
   },
   "outputs": [],
   "source": [
    "plt.style.use('ggplot')"
   ]
  },
  {
   "cell_type": "code",
   "execution_count": 1986,
   "metadata": {
    "collapsed": false
   },
   "outputs": [],
   "source": [
    "size = 4\n",
    "\n",
    "# condition for running consensus filter 1\n",
    "x = []\n",
    "\n",
    "numNodes = 10\n",
    "c_v = 0.01\n",
    "\n",
    "nodeNumList = np.arange(1, numNodes+1, 1)\n",
    "\n",
    "############## ranges subject to change ###########\n",
    "# communication range - make sure all nodes are connected\n",
    "r = 17\n",
    "# sensing range\n",
    "r_s = 1.6\n",
    "\n",
    "# cell k to sense\n",
    "groundTruthMeasurement = 50\n",
    "groundTruthLoc = np.matrix([2, 2])\n",
    "\n",
    "# generate random points\n",
    "points = size*np.random.rand(2, numNodes)"
   ]
  },
  {
   "cell_type": "code",
   "execution_count": 1987,
   "metadata": {
    "collapsed": true
   },
   "outputs": [],
   "source": [
    "########################### build graph #########################\n",
    "\n",
    "# add edge to graph (adding neighbors)\n",
    "def addEdge(graph, pointIndex, neighborIndex):\n",
    "    if pointIndex in graph:\n",
    "        graph[pointIndex].append(neighborIndex)\n",
    "    else:\n",
    "        graph[pointIndex] = [neighborIndex]\n",
    "\n",
    "def distance(point1, point2):\n",
    "    (x1, y1) = point1\n",
    "    (x2, y2) = point2\n",
    "    return (x1-x2)**2+(y1-y2)**2\n",
    "\n",
    "# go through all nodes to see if neighbor\n",
    "def findNeighbors(nodeIndex, n, q):\n",
    "    \n",
    "    neighborList = []\n",
    "    q_i = np.array(q[nodeIndex-1]).ravel()\n",
    "\n",
    "    centerX, centerY = q_i[0], q_i[1]\n",
    "    for j in range(nodeIndex, n):\n",
    "        q_j = np.array(q[j]).ravel()\n",
    "        pointX, pointY = q_j[0], q_j[1]\n",
    "        if distance((centerX, centerY), (pointX, pointY)) < r**2:\n",
    "            neighborList.append(j+1)\n",
    "    return neighborList\n",
    "\n",
    "# dict[node number] = [neighbors]\n",
    "# nodes with neighbors\n",
    "def buildGraph(n, q):\n",
    "    global fignum\n",
    "    \n",
    "    graph = dict()\n",
    "    \n",
    "    for i in range(1, n+1):\n",
    "        centerIndex = i\n",
    "        q_i = np.array(q[i-1]).ravel()\n",
    "        centerX, centerY = q_i[0], q_i[1]\n",
    "        neighbors = findNeighbors(centerIndex, n, q)\n",
    "        for neighborIndex in neighbors:\n",
    "            neighbor = neighborIndex-1\n",
    "            \n",
    "            q_j = np.array(q[neighbor]).ravel()\n",
    "            \n",
    "            pointX, pointY = q_j[0], q_j[1]\n",
    "            # 3. Link sensor node with neighbor\n",
    "            plt.plot([centerX, pointX], [centerY, pointY], color='b')\n",
    "            # add 2 edges for undirected graph\n",
    "            addEdge(graph, centerIndex, neighborIndex)\n",
    "            addEdge(graph, neighborIndex, centerIndex)   \n",
    "        if centerIndex not in graph:\n",
    "            graph[centerIndex] = []\n",
    "    \n",
    "    return graph\n",
    "\n",
    "def showSensorNodeGraph(x, y, n):\n",
    "    fig = plt.figure()\n",
    "    ax = fig.add_subplot(111)\n",
    " \n",
    "    plt.scatter(2, 2, marker='o', color='blue')\n",
    "    \n",
    "    # q: node positions in matrix form\n",
    "    q = np.column_stack((x, y))\n",
    "    q = list(map(np.matrix, q))\n",
    "    \n",
    "    plt.scatter(x, y,\n",
    "                marker='>',\n",
    "                color='magenta')\n",
    "    ax.set_xlim([0, 4])\n",
    "    ax.set_ylim([0, 4])\n",
    "    # find neighbors for each node\n",
    "    return buildGraph(n, q)"
   ]
  },
  {
   "cell_type": "code",
   "execution_count": 1988,
   "metadata": {
    "collapsed": false,
    "scrolled": true
   },
   "outputs": [
    {
     "name": "stdout",
     "output_type": "stream",
     "text": [
      "q:  [matrix([[ 2.35418275,  2.27378673]]), matrix([[ 1.79789702,  1.92739139]]), matrix([[ 3.01175618,  3.02489463]]), matrix([[ 3.60016993,  1.90836846]]), matrix([[ 1.33943485,  3.19069591]]), matrix([[ 1.84680623,  0.44436054]]), matrix([[ 2.39635198,  2.31557886]]), matrix([[ 1.51909414,  2.81898806]]), matrix([[ 1.84741128,  1.77471852]]), matrix([[ 3.51227793,  2.38743762]])]\n"
     ]
    },
    {
     "data": {
      "image/png": "[encoded data removed]",
      "text/plain": [
       "<matplotlib.figure.Figure at 0x10766ccf8>"
      ]
     },
     "metadata": {},
     "output_type": "display_data"
    }
   ],
   "source": [
    "nodes = showSensorNodeGraph(points[0], points[1], numNodes)\n",
    "\n",
    "# q: node positions in matrix form\n",
    "q = np.column_stack((points[0], points[1]))\n",
    "q = list(map(np.matrix, q))\n",
    "print(\"q: \", q)"
   ]
  },
  {
   "cell_type": "code",
   "execution_count": 1989,
   "metadata": {
    "collapsed": false
   },
   "outputs": [
    {
     "name": "stdout",
     "output_type": "stream",
     "text": [
      "node_observability\n",
      "[1, 1, 1, 0, 1, 1, 1, 1, 1, 1]\n",
      "compute c1 upper bound\n",
      "0.0008680555555555553\n",
      "c1_w:  0.0003511257168992554\n",
      "measurement\n",
      "[50.00463, 49.82531, 49.38368, 49.47108, 49.47626, 48.61069, 50.01079, 49.82121, 49.79908, 50.82445]\n",
      "graph\n",
      "{1: [2, 3, 4, 5, 6, 7, 8, 9, 10], 2: [1, 3, 4, 5, 6, 7, 8, 9, 10], 3: [1, 2, 4, 5, 6, 7, 8, 9, 10], 4: [1, 2, 3, 5, 6, 7, 8, 9, 10], 5: [1, 2, 3, 4, 6, 7, 8, 9, 10], 6: [1, 2, 3, 4, 5, 7, 8, 9, 10], 7: [1, 2, 3, 4, 5, 6, 8, 9, 10], 8: [1, 2, 3, 4, 5, 6, 7, 9, 10], 9: [1, 2, 3, 4, 5, 6, 7, 8, 10], 10: [1, 2, 3, 4, 5, 6, 7, 8, 9]}\n"
     ]
    }
   ],
   "source": [
    "#################### Supplemental Functions ########################\n",
    "\n",
    "def euclideanNorm(q_i, q_j):\n",
    "    return sqrt(np.sum(np.square(np.subtract(q_i, q_j))))\n",
    "\n",
    "def sigmaNorm(z, epsilon):\n",
    "    return 1/epsilon*(sqrt(1+epsilon*(z**2))-1)\n",
    "\n",
    "def compute_q_mean():\n",
    "    global q\n",
    "    return reduce(np.add, q)/numNodes\n",
    "\n",
    "def compute_c1_w():\n",
    "    numerator = 2*c_v\n",
    "    N = numNodes-1\n",
    "    denominator = N*(r_s**2)\n",
    "    return numerator/denominator\n",
    "\n",
    "def compute_c2_w():\n",
    "    return c_v/(r_s**2)\n",
    "\n",
    "def random_float(low, high):\n",
    "    return random.random()*(high-low) + low\n",
    "\n",
    "def Observability(q_ck, q_i):\n",
    "    z = euclideanNorm(q_i, q_ck)\n",
    "    if(z <= r_s):\n",
    "        return 1\n",
    "    else:\n",
    "        return 0\n",
    "    \n",
    "node_observability = list(map(partial(Observability,\n",
    "                                      groundTruthLoc), q))\n",
    "\n",
    "print(\"node_observability\")\n",
    "print(node_observability)\n",
    "\n",
    "print(\"compute c1 upper bound\")\n",
    "print(compute_c1_w())\n",
    "\n",
    "c1_w = random_float(0,compute_c1_w())\n",
    "c2_w = random_float(0, compute_c2_w())\n",
    "\n",
    "print(\"c1_w: \", c1_w)\n",
    "\n",
    "q_mean = compute_q_mean()\n",
    "\n",
    "V1 = []\n",
    "n1 = []\n",
    "m1 = []\n",
    "\n",
    "for i in range(numNodes):\n",
    "    V1.append(((np.linalg.norm(q[i]-q_mean)**2)+c_v)/(r_s**2))\n",
    "    n1.append(np.random.normal(0.0, V1[i]))\n",
    "    m1.append(groundTruthMeasurement+n1[i])\n",
    "\n",
    "def round_decimal(places, number):\n",
    "    return round(number, places)\n",
    "    \n",
    "m1 = list(map(partial(round_decimal, 5), m1))\n",
    "    \n",
    "print(\"measurement\")\n",
    "print(m1)\n",
    "\n",
    "print(\"graph\")\n",
    "print(nodes)"
   ]
  },
  {
   "cell_type": "code",
   "execution_count": 1990,
   "metadata": {
    "collapsed": false,
    "scrolled": true
   },
   "outputs": [
    {
     "name": "stdout",
     "output_type": "stream",
     "text": [
      "Variances: \n",
      "[0.0060595573677985053, 0.14188209734181584, 0.4510122505567456, 0.67628827392496782, 0.75972405822658473, 1.305424474725188, 0.010671895506261079, 0.4025447295675475, 0.16495558412400294, 0.56959954013583181]\n",
      "filteredMeasurement\n",
      "[50.00463, 49.82531, 49.38368, 49.47626, 48.61069, 50.01079, 49.82121, 49.79908, 50.82445]\n",
      "consensus: \n",
      "[[0.28190999999999633, 0.10258999999999929, -0.3390400000000042, -0.25164000000000186, -0.246459999999999, -1.1120300000000043, 0.2880699999999976, 0.09848999999999819, 0.07635999999999399, 1.1017299999999963]]\n"
     ]
    }
   ],
   "source": [
    "########################### CASE 1 ################################\n",
    "############ Estimate single cell (single scalar value) ###########\n",
    "\n",
    "# iniital \n",
    "x.append(m1)\n",
    "consensus = []\n",
    "\n",
    "print(\"Variances: \")\n",
    "print(V1)\n",
    "    \n",
    "def weightDesign_1(i, j):\n",
    "    observability = (node_observability[i-1] or \n",
    "                     node_observability[j-1])\n",
    "    if i != j and j in nodes[i] and observability:\n",
    "        return c1_w/(V1[i-1]+V1[j-1])\n",
    "    elif i == j:\n",
    "        weight = 0\n",
    "        for neighbor in nodes[i]:\n",
    "            weight += weightDesign_1(i, neighbor)\n",
    "    \n",
    "        return (1-weight)\n",
    "    else:\n",
    "        return 0\n",
    "\n",
    "filteredMeasurement = []\n",
    "for i in range(numNodes):\n",
    "    if node_observability[i] == 1:\n",
    "        filteredMeasurement.append(m1[i])\n",
    "\n",
    "print(\"filteredMeasurement\")\n",
    "print(filteredMeasurement)\n",
    "    \n",
    "numSensingNodes = len(filteredMeasurement)\n",
    "        \n",
    "#measurementMean = reduce(lambda x, y: x+y, filteredMeasurement)/numSensingNodes\n",
    "#measurementMean = reduce(lambda x, y: x+y, x[0])/numNodes\n",
    "\n",
    "#print(\"measurementMean\")\n",
    "#print(measurementMean)\n",
    "\n",
    "def compute_consensus(x_i):\n",
    "    #filteredMeasurement = []\n",
    "    #for i in range(numNodes):\n",
    "    #    if node_observability[i] == 1:\n",
    "    #        filteredMeasurement.append(x_i[i])\n",
    "    #numSensingNodes = len(filteredMeasurement)\n",
    "    #measurementMean = reduce(lambda x, y: x+y, filteredMeasurement)/numSensingNodes\n",
    "    measurementMean = reduce(lambda x, y: x+y, x_i)/numNodes\n",
    "    measurementMean = round(measurementMean, 5)\n",
    "\n",
    "    #diff = list(map(partial(lambda x, y: y-x, measurementMean), x_i))\n",
    "    diff = []\n",
    "    for i in range(numNodes):\n",
    "        diff.append(x_i[i]-measurementMean)\n",
    "    return diff\n",
    "\n",
    "l = 0\n",
    "consensus.append(compute_consensus(x[l]))\n",
    "print(\"consensus: \")\n",
    "print(consensus)"
   ]
  },
  {
   "cell_type": "code",
   "execution_count": 1991,
   "metadata": {
    "collapsed": false,
    "scrolled": true
   },
   "outputs": [
    {
     "name": "stdout",
     "output_type": "stream",
     "text": [
      "x\n",
      "[49.72531, 49.72533, 49.725490000000001, 49.725670000000001, 49.725740000000002, 49.70881, 49.72531, 49.725459999999998, 49.725340000000003, 49.72578]\n",
      "consensus\n",
      "[0.0014899999999968827, 0.0015099999999961256, 0.0016699999999971737, 0.0018499999999974648, 0.0019199999999983675, -0.015010000000003743, 0.0014899999999968827, 0.0016399999999947568, 0.0015199999999992997, 0.0019599999999968531]\n"
     ]
    }
   ],
   "source": [
    "# every time step change topology - make sure connectivity is 1\n",
    "\n",
    "# average measurement only by nodes that have measurement\n",
    "def x_update(l, weightDesign):\n",
    "    x_list = []\n",
    "    for i in range(1, numNodes+1):\n",
    "        result = weightDesign(i, i)*x[l][i-1]\n",
    "        for j in nodes[i]:\n",
    "            result += weightDesign(i, j)*x[l][j-1]\n",
    "        x_list.append(result)\n",
    "    x_list = list(map(partial(round_decimal, 5), x_list))\n",
    "    return x_list\n",
    "\n",
    "maxIter = 2000\n",
    "\n",
    "def is_convergent(x_i):\n",
    "    for i in range(numNodes):\n",
    "        if x_i[i] != 0:\n",
    "            return False\n",
    "    return True\n",
    "        \n",
    "# convergent = x - mean()\n",
    "for l in range(maxIter):\n",
    "    if(is_convergent(x[l])):\n",
    "        print(\"converges at l = \", l)\n",
    "    x.append(x_update(l, weightDesign_1))\n",
    "    consensus.append(compute_consensus(x[l+1]))\n",
    "    if(is_convergent(x[l+1])):\n",
    "        print(\"converges at l+1 = \", l+1)\n",
    "    \n",
    "print(\"x\")\n",
    "print(x[l])\n",
    "\n",
    "print(\"consensus\")\n",
    "print(consensus[l])"
   ]
  },
  {
   "cell_type": "code",
   "execution_count": 1992,
   "metadata": {
    "collapsed": false
   },
   "outputs": [
    {
     "name": "stdout",
     "output_type": "stream",
     "text": [
      "consensus: \n",
      "[[0.28190999999999633, 0.10258999999999929, -0.3390400000000042, -0.25164000000000186, -0.246459999999999, -1.1120300000000043, 0.2880699999999976, 0.09848999999999819, 0.07635999999999399, 1.1017299999999963]]\n",
      "x\n",
      "[[50.00463, 49.82531, 49.38368, 49.47108, 49.47626, 48.61069, 50.01079, 49.82121, 49.79908, 50.82445], [49.866869999999999, 49.71405, 49.757550000000002, 49.75068, 49.74888, 49.843060000000001, 49.792529999999999, 49.712699999999998, 49.715980000000002, 49.607599999999998], [49.810250000000003, 49.754109999999997, 49.750320000000002, 49.751019999999997, 49.75121, 49.741030000000002, 49.761060000000001, 49.754890000000003, 49.754080000000002, 49.765970000000003], [49.785400000000003, 49.759839999999997, 49.760330000000003, 49.76032, 49.760260000000002, 49.761380000000003, 49.759799999999998, 49.75985, 49.759860000000003, 49.758710000000001], [49.774250000000002, 49.762810000000002, 49.762810000000002, 49.762830000000001, 49.762819999999998, 49.762700000000002, 49.761899999999997, 49.76285, 49.762810000000002, 49.762979999999999], [49.769179999999999, 49.76397, 49.76399, 49.76399, 49.76399, 49.764000000000003, 49.763399999999997, 49.763979999999997, 49.76397, 49.76397]]\n",
      "consensus\n",
      "[[0.28190999999999633, 0.10258999999999929, -0.3390400000000042, -0.25164000000000186, -0.246459999999999, -1.1120300000000043, 0.2880699999999976, 0.09848999999999819, 0.07635999999999399, 1.1017299999999963], [0.1158799999999971, -0.036940000000001305, 0.0065600000000003433, -0.00030999999999892225, -0.0021100000000018326, 0.092069999999999652, 0.04153999999999769, -0.038290000000003488, -0.035009999999999764, -0.14339000000000368], [0.050860000000000127, -0.0052800000000061686, -0.0090700000000012437, -0.0083700000000064279, -0.0081800000000029627, -0.018360000000001264, 0.0016699999999971737, -0.0045000000000001705, -0.0053100000000014802, 0.0065799999999995862], [0.022820000000002949, -0.0027400000000028513, -0.0022499999999965326, -0.0022599999999997067, -0.0023199999999974352, -0.0011999999999972033, -0.002780000000001337, -0.0027299999999996771, -0.002719999999996503, -0.0038699999999991519], [0.010370000000001767, -0.0010699999999985721, -0.0010699999999985721, -0.0010499999999993292, -0.0010600000000025034, -0.0011799999999979605, -0.0019800000000032014, -0.0010300000000000864, -0.0010699999999985721, -0.00090000000000145519], [0.0047399999999981901, -0.00046999999999997044, -0.0004500000000007276, -0.0004500000000007276, -0.0004500000000007276, -0.00043999999999755346, -0.0010400000000032605, -0.00046000000000390173, -0.00046999999999997044, -0.00046999999999997044]]\n"
     ]
    }
   ],
   "source": [
    "x = []\n",
    "x.append(m1)\n",
    "\n",
    "l = 0\n",
    "consensus = []\n",
    "l = 0\n",
    "consensus.append(compute_consensus(x[l]))\n",
    "print(\"consensus: \")\n",
    "print(consensus)\n",
    "\n",
    "def weightDesign_2(i, j):\n",
    "    if i == j and node_observability[i-1]:\n",
    "        return c2_w/V1[i-1]\n",
    "    elif i != j and j in nodes[i]:\n",
    "        return (1-weightDesign_2(i, i))/(len(nodes[i]))\n",
    "    else:\n",
    "        return 0\n",
    "\n",
    "maxIter = 5\n",
    "        \n",
    "# convergent = x - mean()\n",
    "for l in range(maxIter):\n",
    "    if(is_convergent(x[l])):\n",
    "        print(\"converges at l = \", l)\n",
    "    x.append(x_update(l, weightDesign_2))\n",
    "    consensus.append(compute_consensus(x[l+1]))\n",
    "    if(is_convergent(x[l+1])):\n",
    "        print(\"converges at l+1 = \", l+1)\n",
    "    \n",
    "print(\"x\")\n",
    "print(x)\n",
    "\n",
    "print(\"consensus\")\n",
    "print(consensus)"
   ]
  },
  {
   "cell_type": "code",
   "execution_count": 1993,
   "metadata": {
    "collapsed": false
   },
   "outputs": [
    {
     "data": {
      "text/plain": [
       "'def readField(filename):\\n    rows = []\\n    F = []\\n    file = open(filename,\"r\")\\n    lines = file.readlines()\\n    \\n    for i in range(25):\\n        row = []\\n        for i in range(5):\\n            index = 1+(26*i)\\n            vals = lines[index]\\n            vals = list(map(float, vals.split()))\\n            row += vals\\n        rows.append(row)\\n    \\n    return rows\\n\\n# 25 x 25\\nF = readField(\"Scalar_Field_data.txt\")'"
      ]
     },
     "execution_count": 1993,
     "metadata": {},
     "output_type": "execute_result"
    }
   ],
   "source": [
    "'''def readField(filename):\n",
    "    rows = []\n",
    "    F = []\n",
    "    file = open(filename,\"r\")\n",
    "    lines = file.readlines()\n",
    "    \n",
    "    for i in range(25):\n",
    "        row = []\n",
    "        for i in range(5):\n",
    "            index = 1+(26*i)\n",
    "            vals = lines[index]\n",
    "            vals = list(map(float, vals.split()))\n",
    "            row += vals\n",
    "        rows.append(row)\n",
    "    \n",
    "    return rows\n",
    "\n",
    "# 25 x 25\n",
    "F = readField(\"Scalar_Field_data.txt\")'''"
   ]
  }
 ],
 "metadata": {
  "kernelspec": {
   "display_name": "Python 3",
   "language": "python",
   "name": "python3"
  },
  "language_info": {
   "codemirror_mode": {
    "name": "ipython",
    "version": 3
   },
   "file_extension": ".py",
   "mimetype": "text/x-python",
   "name": "python",
   "nbconvert_exporter": "python",
   "pygments_lexer": "ipython3",
   "version": "3.5.2"
  }
 },
 "nbformat": 4,
 "nbformat_minor": 1
}
